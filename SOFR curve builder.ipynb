{
 "cells": [
  {
   "cell_type": "markdown",
   "id": "9fb4e482-7f23-43e1-a7a9-0afe2c29d2ca",
   "metadata": {},
   "source": [
    "# SOFR curve builder\n",
    "This script builds an interest rate curve using the implied rate of the SOFR 1 month futures.\n",
    "The methodology is explained in the second report of the Alternative Reference Rates Committee (The Alternative Reference Rates Committee - SEC.gov https://www.sec.gov › arrc-second-report-041519)\n",
    "\n",
    "The data are sourced from Yahoo finance and the New York Fed website.\n",
    "\n",
    "The following packages are needed:\n",
    "- pandas\n",
    "- numpy\n",
    "- datetime\n",
    "- exchange_calendars\n",
    "- calendar\n",
    "- yfinance"
   ]
  },
  {
   "cell_type": "code",
   "execution_count": 1,
   "id": "ce1d8078-1528-4112-a89f-324b72612456",
   "metadata": {},
   "outputs": [],
   "source": [
    "import pandas as pd\n",
    "import numpy as np\n",
    "from datetime import datetime as dt\n",
    "import exchange_calendars as xcal\n",
    "import calendar\n",
    "import yfinance"
   ]
  },
  {
   "cell_type": "markdown",
   "id": "50c9791e-c58d-4419-a0a5-b02ebdc13489",
   "metadata": {},
   "source": [
    "## Select the rate and the date\n",
    "For the moment only SOFR is supported because all the necessary data is available without an expensive subscription, more can be added in the futures.txt supporting file."
   ]
  },
  {
   "cell_type": "code",
   "execution_count": 3,
   "id": "216db8f4-ae12-4522-b137-d6bd41fdf932",
   "metadata": {},
   "outputs": [],
   "source": [
    "arr=\"SOFR\"\n",
    "ref_date=\"22.03.2022\""
   ]
  },
  {
   "cell_type": "code",
   "execution_count": 4,
   "id": "a577e96c-d530-4964-a4e7-96fb57f94d47",
   "metadata": {},
   "outputs": [],
   "source": [
    "futures_root= pd.read_table(\"futures.txt\")\n",
    "\n",
    "ref_date=dt.strptime(ref_date,\"%d.%m.%Y\")\n",
    "\n",
    "#build the trading calendar\n",
    "trading_cal=xcal.get_calendar(futures_root.loc[futures_root.ARR==arr][\"CALENDAR\"].to_list()[0],\n",
    "                start=format(ref_date,\"%Y-%m\")+\"-\"+\"01\",\n",
    "                end=str(ref_date.year+1)+\"-\"+str(ref_date.month)+\"-\"+str(calendar.monthrange(ref_date.year+1,ref_date.month)[1]))"
   ]
  },
  {
   "cell_type": "code",
   "execution_count": 5,
   "id": "f5f1f7e7-d142-4535-adc4-3c56559aae03",
   "metadata": {},
   "outputs": [],
   "source": [
    "# Build the future chain\n",
    "monthcodes=pd.read_table(\"monthcodes.txt\")\n",
    "#concatenate future roots with month codes\n",
    "future_codes=list()\n",
    "for root in futures_root.loc[futures_root.ARR==arr][\"FUTURE\"].to_list():\n",
    "    for monthcode in monthcodes[\"CODE\"].to_list():\n",
    "        future_codes.append(root+monthcode)\n",
    " \n",
    "#add the year for the next 12 months        \n",
    "future_codes=[x+str(ref_date.year%100)+\".CME\" for x in future_codes[ref_date.month-1:]]+[x+str(ref_date.year%100+1)+\".CME\" for x in future_codes[:ref_date.month-1]]\n",
    "future_expiry=[str(x)+\"-\"+str(ref_date.year) for x in range(ref_date.month,12+1)]+[str(x)+\"-\"+str(ref_date.year+1) for x in range(1,ref_date.month)]\n",
    "future_expiry=[str(trading_cal.closes[x].max().day)+\"-\"+x for x in future_expiry]\n",
    "future_expiry=[dt.strptime(x,\"%d-%m-%Y\") for x in future_expiry]"
   ]
  },
  {
   "cell_type": "code",
   "execution_count": 6,
   "id": "7261ed9b-9bbb-492d-b4c1-78d7b3718c66",
   "metadata": {},
   "outputs": [],
   "source": [
    "#get the future prices from Yahoo finance and the SOFR time series from the NY Fed\n",
    "\n",
    "def getFutPriceYahoo(x:str):\n",
    "    ticker=yfinance.Ticker(x)\n",
    "    tickerInfo=ticker.info\n",
    "    price=(tickerInfo['bid']+tickerInfo['ask'])/2\n",
    "    return price\n",
    "\n",
    "future_prices=[getFutPriceYahoo(x) for x in future_codes]\n",
    "\n",
    "future_rates=pd.DataFrame({\"expiry\":future_expiry,\"rates\":[100-x for x in future_prices]})\n",
    "\n",
    "#download SOFR time series\n",
    "sofr=pd.read_xml('https://markets.newyorkfed.org/read?startDt='+\n",
    "                 format(ref_date,\"%Y-%m\")+'-01&endDt='+format(ref_date,\"%Y-%m-%d\")+\n",
    "                 '&eventCodes=520&productCode=50&sort=postDt:-1,eventCode:1&format=xml',\n",
    "                 xpath='.//rate')\n",
    "sofr.index=pd.to_datetime(sofr[\"effectiveDate\"])"
   ]
  },
  {
   "cell_type": "code",
   "execution_count": 7,
   "id": "ec122bf9-498d-4a83-b498-dbe40555afba",
   "metadata": {},
   "outputs": [
    {
     "data": {
      "text/plain": [
       "[99.83375,\n",
       " 99.69749999999999,\n",
       " 99.3125,\n",
       " 99.045,\n",
       " 98.80000000000001,\n",
       " 98.49000000000001,\n",
       " 98.3925,\n",
       " 98.17,\n",
       " 97.96000000000001,\n",
       " 97.82749999999999,\n",
       " 97.735,\n",
       " 97.5925]"
      ]
     },
     "execution_count": 7,
     "metadata": {},
     "output_type": "execute_result"
    }
   ],
   "source": [
    "future_prices"
   ]
  },
  {
   "cell_type": "code",
   "execution_count": 8,
   "id": "48c5ef89-e40f-45a4-b8d1-d0ece6927cf6",
   "metadata": {},
   "outputs": [],
   "source": [
    "#compute the implied rate between the last known SOFR and the expiry of the first future\n",
    "impliedRates=list()\n",
    "for i,future in future_rates.iterrows():\n",
    "    tradingDaysList=trading_cal.closes[format(future_rates[\"expiry\"][i],\"%Y-%m\")]\n",
    "    tradingDays=tradingDaysList.shape[0]\n",
    "    daysWithSofr=sofr.loc[format(future_rates[\"expiry\"][i],\"%Y-%m\")].shape[0]\n",
    "    impliedRate=(future_rates[\"rates\"][i]*tradingDays-sofr[\"percentRate\"].mean()*daysWithSofr)/(tradingDays-daysWithSofr)\n",
    "    thisImpliedRates=pd.DataFrame({\"date\":tradingDaysList,\"rate\":impliedRate})\n",
    "    impliedRates.append(thisImpliedRates)\n",
    "    \n",
    "impliedRates=pd.concat(impliedRates)"
   ]
  },
  {
   "cell_type": "code",
   "execution_count": 11,
   "id": "957913dc-e97d-4118-9380-7fbdba062047",
   "metadata": {},
   "outputs": [],
   "source": [
    "# take the average n months ahead\n",
    "dates=[(ref_date+pd.DateOffset(months=x)).to_period(\"D\") for x in range(13)]\n",
    "dates=[trading_cal.closes.loc[trading_cal.closes.index.to_period(\"D\")<=x].max() for x in dates]\n",
    "dates=[x.to_period(\"D\") for x in dates]\n",
    "\n",
    "average_rate=[impliedRates.rate.loc[(impliedRates.index.to_period(\"D\")<=dates[x]) & \n",
    "                                    (impliedRates.index.to_period(\"D\")>=dates[x-1])].mean() for x in range(1,len(dates))]\n",
    "\n",
    "average_rate=np.array(average_rate)\n",
    "\n",
    "#compute the term structure of annualized rates\n",
    "term_rates=(((1+average_rate/100)**(1/12)).cumprod()**(12/np.array(range(1,13)))-1)*100\n",
    "#add the known overnight rate\n",
    "term_rates=np.append(np.array(sofr.loc[ref_date][\"percentRate\"]),term_rates)\n"
   ]
  },
  {
   "cell_type": "code",
   "execution_count": 12,
   "id": "aa2eb147-26a8-4dbe-ac55-01d7a28fcb8f",
   "metadata": {},
   "outputs": [
    {
     "data": {
      "text/html": [
       "<div>\n",
       "<style scoped>\n",
       "    .dataframe tbody tr th:only-of-type {\n",
       "        vertical-align: middle;\n",
       "    }\n",
       "\n",
       "    .dataframe tbody tr th {\n",
       "        vertical-align: top;\n",
       "    }\n",
       "\n",
       "    .dataframe thead th {\n",
       "        text-align: right;\n",
       "    }\n",
       "</style>\n",
       "<table border=\"1\" class=\"dataframe\">\n",
       "  <thead>\n",
       "    <tr style=\"text-align: right;\">\n",
       "      <th></th>\n",
       "      <th>date</th>\n",
       "      <th>rate</th>\n",
       "    </tr>\n",
       "    <tr>\n",
       "      <th>date</th>\n",
       "      <th></th>\n",
       "      <th></th>\n",
       "    </tr>\n",
       "  </thead>\n",
       "  <tbody>\n",
       "    <tr>\n",
       "      <th>2022-03-22</th>\n",
       "      <td>2022-03-22</td>\n",
       "      <td>0.280000</td>\n",
       "    </tr>\n",
       "    <tr>\n",
       "      <th>2022-04-22</th>\n",
       "      <td>2022-04-22</td>\n",
       "      <td>0.299332</td>\n",
       "    </tr>\n",
       "    <tr>\n",
       "      <th>2022-05-20</th>\n",
       "      <td>2022-05-20</td>\n",
       "      <td>0.438320</td>\n",
       "    </tr>\n",
       "    <tr>\n",
       "      <th>2022-06-22</th>\n",
       "      <td>2022-06-22</td>\n",
       "      <td>0.580623</td>\n",
       "    </tr>\n",
       "    <tr>\n",
       "      <th>2022-07-22</th>\n",
       "      <td>2022-07-22</td>\n",
       "      <td>0.716550</td>\n",
       "    </tr>\n",
       "    <tr>\n",
       "      <th>2022-08-22</th>\n",
       "      <td>2022-08-22</td>\n",
       "      <td>0.857933</td>\n",
       "    </tr>\n",
       "    <tr>\n",
       "      <th>2022-09-22</th>\n",
       "      <td>2022-09-22</td>\n",
       "      <td>0.977092</td>\n",
       "    </tr>\n",
       "    <tr>\n",
       "      <th>2022-10-21</th>\n",
       "      <td>2022-10-21</td>\n",
       "      <td>1.088453</td>\n",
       "    </tr>\n",
       "    <tr>\n",
       "      <th>2022-11-22</th>\n",
       "      <td>2022-11-22</td>\n",
       "      <td>1.198983</td>\n",
       "    </tr>\n",
       "    <tr>\n",
       "      <th>2022-12-22</th>\n",
       "      <td>2022-12-22</td>\n",
       "      <td>1.302249</td>\n",
       "    </tr>\n",
       "    <tr>\n",
       "      <th>2023-01-20</th>\n",
       "      <td>2023-01-20</td>\n",
       "      <td>1.395363</td>\n",
       "    </tr>\n",
       "    <tr>\n",
       "      <th>2023-02-22</th>\n",
       "      <td>2023-02-22</td>\n",
       "      <td>1.482680</td>\n",
       "    </tr>\n",
       "    <tr>\n",
       "      <th>2023-03-22</th>\n",
       "      <td>2023-03-22</td>\n",
       "      <td>1.559428</td>\n",
       "    </tr>\n",
       "  </tbody>\n",
       "</table>\n",
       "</div>"
      ],
      "text/plain": [
       "                  date      rate\n",
       "date                            \n",
       "2022-03-22  2022-03-22  0.280000\n",
       "2022-04-22  2022-04-22  0.299332\n",
       "2022-05-20  2022-05-20  0.438320\n",
       "2022-06-22  2022-06-22  0.580623\n",
       "2022-07-22  2022-07-22  0.716550\n",
       "2022-08-22  2022-08-22  0.857933\n",
       "2022-09-22  2022-09-22  0.977092\n",
       "2022-10-21  2022-10-21  1.088453\n",
       "2022-11-22  2022-11-22  1.198983\n",
       "2022-12-22  2022-12-22  1.302249\n",
       "2023-01-20  2023-01-20  1.395363\n",
       "2023-02-22  2023-02-22  1.482680\n",
       "2023-03-22  2023-03-22  1.559428"
      ]
     },
     "execution_count": 12,
     "metadata": {},
     "output_type": "execute_result"
    },
    {
     "data": {
      "image/png": "[encoded data removed]",
      "text/plain": [
       "<Figure size 432x288 with 1 Axes>"
      ]
     },
     "metadata": {
      "needs_background": "light"
     },
     "output_type": "display_data"
    }
   ],
   "source": [
    "#and show it\n",
    "term_structure=pd.DataFrame({\"date\":dates,\"rate\":term_rates})\n",
    "term_structure.index=term_structure.date\n",
    "term_structure.plot()\n",
    "term_structure"
   ]
  },
  {
   "cell_type": "markdown",
   "id": "f1782683-561e-48b3-a1d9-8813605bd738",
   "metadata": {},
   "source": [
    "The rates are around 2 bps lower than the term structure computed by the CME (which uses the 3 months futures as well and a different calculation methodology). Not bad indeed!\n",
    "\n",
    "| Date       | 1 Month  | 3 Months | 6 Months | 1 Year  |\n",
    "|------------|----------|----------|----------|---------|\n",
    "| 22.03.2022 | 0.31668  | 0.60743  | 0.99369  | 1.57676 |\n"
   ]
  },
  {
   "cell_type": "code",
   "execution_count": null,
   "id": "2f44be2d-39c0-4e72-9eb4-17ee0b398fdd",
   "metadata": {},
   "outputs": [],
   "source": []
  }
 ],
 "metadata": {
  "kernelspec": {
   "display_name": "Python 3 (ipykernel)",
   "language": "python",
   "name": "python3"
  },
  "language_info": {
   "codemirror_mode": {
    "name": "ipython",
    "version": 3
   },
   "file_extension": ".py",
   "mimetype": "text/x-python",
   "name": "python",
   "nbconvert_exporter": "python",
   "pygments_lexer": "ipython3",
   "version": "3.9.7"
  }
 },
 "nbformat": 4,
 "nbformat_minor": 5
}
